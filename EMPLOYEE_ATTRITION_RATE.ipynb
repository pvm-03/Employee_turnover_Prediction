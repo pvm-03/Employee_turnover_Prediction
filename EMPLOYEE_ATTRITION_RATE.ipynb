{
 "cells": [
  {
   "cell_type": "markdown",
   "id": "22be6c5b",
   "metadata": {},
   "source": [
    "## ATTRITION : \n",
    "The rate at which employees leave an organization over a particular period of time, when the company does not seek to fill the position."
   ]
  },
  {
   "cell_type": "markdown",
   "id": "2e3036bd",
   "metadata": {},
   "source": [
    "### EMPLOYEE ATTRITION RATE :\n",
    "Employee Attrition Rate is calculated as the percentage of employees who left the company in a given period to the total average number of employees within that period."
   ]
  },
  {
   "cell_type": "markdown",
   "id": "23f94c9e",
   "metadata": {},
   "source": [
    "### AIM OF PROJECT:\n",
    "To help a company understand the attrition in their organization to minimize the attrition rate, so that turnover costs are reduced and employees can be retained for a longer period.To explore the dataset and it's different features\n",
    "Understand the relationship between the different varaibles\n",
    "Find the variables that tend to have a larger number of employees with positive attrition"
   ]
  },
  {
   "cell_type": "markdown",
   "id": "8ced7c8c",
   "metadata": {},
   "source": [
    "## Overview of project:\n",
    "Exploratory data analysis of an attrition survey conducted.\n",
    "Built a model to calculate the attrition rate in an organisation."
   ]
  },
  {
   "cell_type": "markdown",
   "id": "78b4ab06",
   "metadata": {},
   "source": [
    "## Exploratory Data Analysis :\n",
    "Exploratory Data Analysis is an initial process of analysis, in which we can summarize characteristics of data such as pattern, trends, outliers, and hypothesis testing using descriptive statistics and visualization."
   ]
  },
  {
   "cell_type": "markdown",
   "id": "b1e40609",
   "metadata": {},
   "source": [
    "## Import Dataset and Libraries"
   ]
  },
  {
   "cell_type": "code",
   "execution_count": null,
   "id": "e4cc9739",
   "metadata": {},
   "outputs": [],
   "source": [
    "import matplotlib.pyplot as plt\n",
    "import numpy as np\n",
    "import warnings\n",
    "warnings.filterwarnings(\"ignore\")\n",
    "import pandas as pd\n",
    "import seaborn as sns"
   ]
  },
  {
   "cell_type": "code",
   "execution_count": null,
   "id": "ec362b85",
   "metadata": {},
   "outputs": [],
   "source": [
    "attr = pd.read_csv(\"attrition data.csv\")"
   ]
  },
  {
   "cell_type": "code",
   "execution_count": null,
   "id": "579a9536",
   "metadata": {},
   "outputs": [],
   "source": [
    "attr"
   ]
  },
  {
   "cell_type": "markdown",
   "id": "db8d5d42",
   "metadata": {},
   "source": [
    "## EDA on the Datasets"
   ]
  },
  {
   "cell_type": "code",
   "execution_count": null,
   "id": "81e1de8e",
   "metadata": {},
   "outputs": [],
   "source": [
    "attr.shape"
   ]
  },
  {
   "cell_type": "code",
   "execution_count": null,
   "id": "0d746e97",
   "metadata": {},
   "outputs": [],
   "source": [
    "attr.isnull()"
   ]
  },
  {
   "cell_type": "code",
   "execution_count": null,
   "id": "326d8ed9",
   "metadata": {},
   "outputs": [],
   "source": [
    "attr.isnull().sum()"
   ]
  },
  {
   "cell_type": "markdown",
   "id": "8b5b9e9c",
   "metadata": {},
   "source": [
    "There are no null entries in existing employee dataset."
   ]
  },
  {
   "cell_type": "code",
   "execution_count": null,
   "id": "4531879b",
   "metadata": {},
   "outputs": [],
   "source": [
    "attr.describe()"
   ]
  },
  {
   "cell_type": "code",
   "execution_count": null,
   "id": "01338afc",
   "metadata": {},
   "outputs": [],
   "source": [
    "num = attr.select_dtypes(include=np.number).columns\n",
    "len(num)"
   ]
  },
  {
   "cell_type": "code",
   "execution_count": null,
   "id": "c2dd7562",
   "metadata": {},
   "outputs": [],
   "source": [
    "for i in num:\n",
    "    print(\"The no.of unique values in\",i,\"are: \",attr.loc[:,i].nunique())"
   ]
  },
  {
   "cell_type": "markdown",
   "id": "de912cd3",
   "metadata": {},
   "source": [
    "## Column Description"
   ]
  },
  {
   "cell_type": "markdown",
   "id": "0e8d7c08",
   "metadata": {},
   "source": [
    "\n",
    "#### Independent Variables were:\n",
    "    \n",
    "    Age: Age of employees,\n",
    "    Department: Department of work,\n",
    "    Distance from home,\n",
    "    Education: 1-Below College; 2-College; 3-Bachelor; 4-Master; 5-Doctor;\n",
    "    Education Field\n",
    "    Environment Satisfaction: 1-Low; 2-Medium; 3-High; 4-Very High;\n",
    "    Job Satisfaction: 1-Low; 2-Medium; 3-High; 4-Very High;\n",
    "    Marital Status,\n",
    "    Monthly Income,\n",
    "    Num Companies Worked: Number of companies worked prior to IBM,\n",
    "    Work Life Balance: 1-Bad; 2-Good; 3-Better; 4-Best;\n",
    "    Years At Company: Current years of service in IBM\n",
    "#### Dependent Variable was:\n",
    "    \n",
    "    Attrition: Employee attrition status(0 or 1)"
   ]
  },
  {
   "cell_type": "markdown",
   "id": "778870f6",
   "metadata": {},
   "source": [
    "## Top 5 values"
   ]
  },
  {
   "cell_type": "code",
   "execution_count": null,
   "id": "d483e1e0",
   "metadata": {},
   "outputs": [],
   "source": [
    "attr.head()"
   ]
  },
  {
   "cell_type": "markdown",
   "id": "7af88d84",
   "metadata": {},
   "source": [
    "## last 5 values"
   ]
  },
  {
   "cell_type": "code",
   "execution_count": null,
   "id": "a4a7c692",
   "metadata": {},
   "outputs": [],
   "source": [
    "attr.tail()"
   ]
  },
  {
   "cell_type": "markdown",
   "id": "c3dbf607",
   "metadata": {},
   "source": [
    " ## If there is any duplicate values"
   ]
  },
  {
   "cell_type": "code",
   "execution_count": null,
   "id": "653bdeda",
   "metadata": {},
   "outputs": [],
   "source": [
    "attr.duplicated()"
   ]
  },
  {
   "cell_type": "markdown",
   "id": "32f8c13d",
   "metadata": {},
   "source": [
    "## Value counts of duplicate values"
   ]
  },
  {
   "cell_type": "code",
   "execution_count": null,
   "id": "ba9f8084",
   "metadata": {},
   "outputs": [],
   "source": [
    "attr.duplicated().value_counts()"
   ]
  },
  {
   "cell_type": "markdown",
   "id": "2def47f6",
   "metadata": {},
   "source": [
    "###### There are No Duplicate Columns."
   ]
  },
  {
   "cell_type": "markdown",
   "id": "837bcf36",
   "metadata": {},
   "source": [
    "## Unique values of every columns"
   ]
  },
  {
   "cell_type": "code",
   "execution_count": null,
   "id": "394cf48b",
   "metadata": {},
   "outputs": [],
   "source": [
    "attr.nunique()"
   ]
  },
  {
   "cell_type": "markdown",
   "id": "dbd3bc20",
   "metadata": {},
   "source": [
    "## Data Insights\n",
    "###### In the given dataset, we have two types of employee one who stayed and another who left the company. "
   ]
  },
  {
   "cell_type": "markdown",
   "id": "889bce62",
   "metadata": {},
   "source": [
    "## Attrition"
   ]
  },
  {
   "cell_type": "code",
   "execution_count": null,
   "id": "6c79c15d",
   "metadata": {},
   "outputs": [],
   "source": [
    "att_count=pd.DataFrame(attr[\"Attrition\"].value_counts())\n",
    "att_count"
   ]
  },
  {
   "cell_type": "markdown",
   "id": "8b46d764",
   "metadata": {},
   "source": [
    "## Distribution of Attrition "
   ]
  },
  {
   "cell_type": "code",
   "execution_count": null,
   "id": "ffb9ad77",
   "metadata": {},
   "outputs": [],
   "source": [
    "plt.pie(att_count[\"Attrition\"],labels=['No','Yes'],autopct='%.1f%%', explode=(0.2,0))\n",
    "plt.show()"
   ]
  },
  {
   "cell_type": "code",
   "execution_count": null,
   "id": "b47859b9",
   "metadata": {},
   "outputs": [],
   "source": [
    "attr['Attrition'].value_counts().plot(kind='barh', figsize=(12,4), color=\"coral\", fontsize=13)\n",
    "\n",
    "plt.xlabel(\"Count of people\", fontsize=12)\n",
    "plt.ylabel(\"Attrition\", fontsize=12)\n",
    "plt.title(\"Attrition of the employees\", fontsize=16)\n",
    "plt.show()"
   ]
  },
  {
   "cell_type": "code",
   "execution_count": null,
   "id": "373c4e68",
   "metadata": {},
   "outputs": [],
   "source": []
  },
  {
   "cell_type": "markdown",
   "id": "a04e31bd",
   "metadata": {},
   "source": [
    "## Age and Attrition"
   ]
  },
  {
   "cell_type": "code",
   "execution_count": null,
   "id": "5f3cb97b",
   "metadata": {},
   "outputs": [],
   "source": [
    "#Number of Unique values\n",
    "\n",
    "attr[\"Age\"].nunique()"
   ]
  },
  {
   "cell_type": "code",
   "execution_count": null,
   "id": "428f0c82",
   "metadata": {},
   "outputs": [],
   "source": [
    "attr.hist(column=\"Age\",\n",
    "         grid=False,\n",
    "         figsize=(6,4),\n",
    "         color=\"indigo\",\n",
    "         edgecolor=\"black\",\n",
    "         bins=12)\n",
    "\n",
    "plt.xlabel(\"Age values\",fontsize=12)\n",
    "plt.ylabel(\"frequency of emp\",fontsize=12)\n",
    "plt.title(\"Histogram of Age\",fontsize=16)\n",
    "\n",
    "plt.show()"
   ]
  },
  {
   "cell_type": "markdown",
   "id": "6f0bd231",
   "metadata": {},
   "source": [
    "###### Most of the employees, who have been a part of the company, tend to fall in the age range from 25 years to 45 years. (68–95–99 rule)"
   ]
  },
  {
   "cell_type": "code",
   "execution_count": null,
   "id": "81a7f36e",
   "metadata": {},
   "outputs": [],
   "source": [
    "attr['Age'].value_counts().plot(kind='bar', figsize=(15,4), color=\"coral\", fontsize=13)\n",
    "\n",
    "plt.xlabel(\"Age groups\", fontsize=12)\n",
    "plt.ylabel(\"Count of people\", fontsize=12)\n",
    "plt.title(\"Age of the employees\", fontsize=16)\n",
    "plt.show()"
   ]
  },
  {
   "cell_type": "markdown",
   "id": "640596d3",
   "metadata": {},
   "source": [
    "###### Maximum employees age lies in the range of 30 to 40"
   ]
  },
  {
   "cell_type": "code",
   "execution_count": null,
   "id": "e112a45e",
   "metadata": {},
   "outputs": [],
   "source": [
    "t = pd.crosstab(attr.Age,columns = attr.Attrition)\n",
    "t"
   ]
  },
  {
   "cell_type": "markdown",
   "id": "ee6a0a72",
   "metadata": {},
   "source": [
    "## What age group is more likely to leave?"
   ]
  },
  {
   "cell_type": "code",
   "execution_count": null,
   "id": "54fb7c9d",
   "metadata": {},
   "outputs": [],
   "source": [
    "plt.subplots (figsize=(15,4))\n",
    "sns.countplot (x='Age',  hue='Attrition', data= attr, palette = 'colorblind')\n",
    "plt.show()"
   ]
  },
  {
   "cell_type": "markdown",
   "id": "8181f16a",
   "metadata": {},
   "source": [
    "###### The proportion of employees who left was comparatively less among the senior level employees. Maybe these employees were at a higher authority and were less likely to leave that position.\n",
    "\n"
   ]
  },
  {
   "cell_type": "markdown",
   "id": "4790b475",
   "metadata": {},
   "source": [
    "###### Major Attrition occured among the mid-career level employees. Career change and career growth could be one of the possibilities for such an attrition levels."
   ]
  },
  {
   "cell_type": "code",
   "execution_count": null,
   "id": "d9020e3f",
   "metadata": {},
   "outputs": [],
   "source": [
    "attr.boxplot(column = 'Age', by = 'Attrition', vert= False)\n",
    "plt.show()             \n",
    "            "
   ]
  },
  {
   "cell_type": "markdown",
   "id": "a55f318e",
   "metadata": {},
   "source": [
    "##### we can express that Age does not play a powerful role in influencing attrition  but In the above plot we can see that affirmative attrition count is higher in late 20 and early 30s."
   ]
  },
  {
   "cell_type": "markdown",
   "id": "a9dc4abe",
   "metadata": {},
   "source": [
    "## MonthlyIncome"
   ]
  },
  {
   "cell_type": "markdown",
   "id": "219a720d",
   "metadata": {},
   "source": [
    "##### There are 1470 employees under our analysis for monthly income (in our sample)\n",
    "\n",
    "• Ordinal data(numerical)\n",
    "\n",
    "• The employees in the organization are earning from 1009 To 19,999.\n",
    "\n",
    "• 25%(1st quartile) of the employees under our analysis in our sample are earning monthly salary less than or equal to 2911.\n",
    "\n",
    "• 50%(median-2nd quartile) of the employees under our analysis in our sample are earning monthly salary less than or equal to 4919.\n",
    "\n",
    "• 75%(3rd quartile) of the employees under our analysis in our sample are earning monthly salary less than or equal to 8379.\n",
    "\n",
    "• The mean monthly income received by the employees are 6502.93."
   ]
  },
  {
   "cell_type": "code",
   "execution_count": null,
   "id": "a1a70e94",
   "metadata": {},
   "outputs": [],
   "source": [
    "attr.MonthlyIncome.describe()"
   ]
  },
  {
   "cell_type": "code",
   "execution_count": null,
   "id": "2a378f82",
   "metadata": {},
   "outputs": [],
   "source": [
    "attr[\"MonthlyIncome\"].nunique()"
   ]
  },
  {
   "cell_type": "code",
   "execution_count": null,
   "id": "3d29c53a",
   "metadata": {},
   "outputs": [],
   "source": [
    "sns.distplot(attr['MonthlyIncome']) \n",
    "plt.show()"
   ]
  },
  {
   "cell_type": "markdown",
   "id": "8d6d8f1d",
   "metadata": {},
   "source": [
    "##### This variable is left skewed distribution,meaning most of its values are located at the lower end(2000-6000)"
   ]
  },
  {
   "cell_type": "code",
   "execution_count": null,
   "id": "c727021b",
   "metadata": {},
   "outputs": [],
   "source": [
    "p_attr = attr.loc[attr['Attrition'] == \"Yes\"]\n",
    "n_attr = attr.loc[attr['Attrition'] == \"No\"]"
   ]
  },
  {
   "cell_type": "code",
   "execution_count": null,
   "id": "f361542a",
   "metadata": {},
   "outputs": [],
   "source": [
    "sns.distplot(n_attr['MonthlyIncome'], label='Negative attrition')\n",
    "sns.distplot(p_attr['MonthlyIncome'], label='positive attrition')\n",
    "plt.show()"
   ]
  },
  {
   "cell_type": "markdown",
   "id": "821f2922",
   "metadata": {},
   "source": [
    "##### There is high attrition rate among employees of relatively lower salary range, ie. less than 5000."
   ]
  },
  {
   "cell_type": "code",
   "execution_count": null,
   "id": "1d8a3a05",
   "metadata": {},
   "outputs": [],
   "source": [
    "sns.catplot(x=\"Attrition\",y=\"MonthlyIncome\",kind=\"box\",data=attr)   \n",
    "plt.title(\"Box plot grouped by Attrition\")\n",
    "plt.show()"
   ]
  },
  {
   "cell_type": "markdown",
   "id": "22cc681d",
   "metadata": {},
   "source": [
    "##### There is high attrition rate among employees of relatively lower salary range, ie. less than 5000."
   ]
  },
  {
   "cell_type": "code",
   "execution_count": null,
   "id": "c692d906",
   "metadata": {},
   "outputs": [],
   "source": [
    "sns.catplot(x=\"MaritalStatus\",y=\"MonthlyIncome\",hue=\"Attrition\" ,kind=\"boxen\",data=attr)   ##box graph\n",
    "plt.show()"
   ]
  },
  {
   "cell_type": "markdown",
   "id": "7cea8816",
   "metadata": {},
   "source": [
    "##### This will show monthly income and attrition using Marital Status category"
   ]
  },
  {
   "cell_type": "code",
   "execution_count": null,
   "id": "6d14f728",
   "metadata": {},
   "outputs": [],
   "source": [
    "attr.plot.scatter(x = 'MonthlyIncome', y = 'Age',\n",
    "                  color = 'sandybrown', title = 'MonthlyIncome vs Age')\n",
    "plt.show()"
   ]
  },
  {
   "cell_type": "code",
   "execution_count": null,
   "id": "1255406a",
   "metadata": {},
   "outputs": [],
   "source": [
    "sns.violinplot(x =\"JobSatisfaction\", y =\"MonthlyIncome\", hue =\"Attrition\",\n",
    "data = attr, split = True)\n",
    "plt.show()"
   ]
  },
  {
   "cell_type": "markdown",
   "id": "74b87a2d",
   "metadata": {},
   "source": [
    "## JobSatisfaction"
   ]
  },
  {
   "cell_type": "markdown",
   "id": "8c7e508b",
   "metadata": {},
   "source": [
    " ##### There are 1470 employees under our analysis for Job Satisfaction (in our sample)\n",
    "\n",
    " Nominal data(categorical)\n",
    "\n",
    " There are 4 categories in this data sample: 1,2,3 and 4\n",
    "\n",
    " Here, 1 corresponds to least Job Satisfaction and 4 corresponds to the highest Job Satisfaction.\n",
    "\n",
    " The count analysis of the Job Satisfaction category:  4 459  3 442  1 289  2 280\n",
    "\n",
    " Highest rating is with ‘Job Satisfaction 4’ with a count of 459.  Least rating is with ‘Job Satisfaction 1’ with a count of 280."
   ]
  },
  {
   "cell_type": "code",
   "execution_count": null,
   "id": "7aad8eba",
   "metadata": {},
   "outputs": [],
   "source": [
    "#Number of Unique values\n",
    "attr[\"JobSatisfaction\"].unique().size"
   ]
  },
  {
   "cell_type": "code",
   "execution_count": null,
   "id": "e0e730ea",
   "metadata": {},
   "outputs": [],
   "source": [
    "attr[\"JobSatisfaction\"].value_counts()   "
   ]
  },
  {
   "cell_type": "markdown",
   "id": "e04b881b",
   "metadata": {},
   "source": [
    "## Here JobSatisfaction Counts are shown by Graph"
   ]
  },
  {
   "cell_type": "code",
   "execution_count": null,
   "id": "9596183b",
   "metadata": {},
   "outputs": [],
   "source": [
    "sns.countplot(attr[\"JobSatisfaction\"])\n",
    "plt.xticks(rotation=90)\n",
    "plt.show()"
   ]
  },
  {
   "cell_type": "code",
   "execution_count": null,
   "id": "34bc2735",
   "metadata": {},
   "outputs": [],
   "source": [
    "labels = ['4', '3','1','2']\n",
    "plt.pie(attr.JobSatisfaction.value_counts(), labels=labels, autopct='%.1f%%')\n",
    "plt.show()"
   ]
  },
  {
   "cell_type": "code",
   "execution_count": null,
   "id": "2aa607c0",
   "metadata": {},
   "outputs": [],
   "source": [
    "sns.relplot(x=\"JobSatisfaction\",y=\"MonthlyIncome\",hue=\"Attrition\",kind=\"line\",data=attr)\n",
    "plt.show()"
   ]
  },
  {
   "cell_type": "markdown",
   "id": "173b01e5",
   "metadata": {},
   "source": [
    "## Department"
   ]
  },
  {
   "cell_type": "markdown",
   "id": "51623949",
   "metadata": {},
   "source": [
    "• Nominal data(categorical)\n",
    "\n",
    "• There are 3 categories in this data sample: Human Resources, Sales and Research & Development.\n",
    "\n",
    "• The count of employees in these categories are: Human Resources = 63 Sales = 446 Research and Development = 961\n",
    "\n",
    "• Under our analysis in the sample, 65.37% of the employees work in the Research and Development department, which is the maximum, 30.34% of the employees work in the Sales department and 4.28% of the employees work in the Human Resources department which is the least in the organization."
   ]
  },
  {
   "cell_type": "code",
   "execution_count": null,
   "id": "42c432c5",
   "metadata": {},
   "outputs": [],
   "source": [
    "attr[\"Department\"].value_counts()"
   ]
  },
  {
   "cell_type": "markdown",
   "id": "fee847f0",
   "metadata": {},
   "source": [
    "## Plot of different department"
   ]
  },
  {
   "cell_type": "code",
   "execution_count": null,
   "id": "8a59da18",
   "metadata": {},
   "outputs": [],
   "source": [
    "labels = ['Research & Development', 'Sales', 'Human Resources']\n",
    "plt.pie(attr.Department.value_counts(), labels=labels, autopct='%.1f%%')\n",
    "plt.show()"
   ]
  },
  {
   "cell_type": "code",
   "execution_count": null,
   "id": "7df2ad83",
   "metadata": {},
   "outputs": [],
   "source": [
    "t3 = pd.crosstab(attr.Department,columns = attr.Attrition)\n",
    "t3"
   ]
  },
  {
   "cell_type": "markdown",
   "id": "e1988690",
   "metadata": {},
   "source": [
    "## Replace Attrition to numeric values"
   ]
  },
  {
   "cell_type": "code",
   "execution_count": null,
   "id": "51e8b43c",
   "metadata": {},
   "outputs": [],
   "source": [
    "attr = attr.replace(\"Yes\", 1)"
   ]
  },
  {
   "cell_type": "code",
   "execution_count": null,
   "id": "081b5144",
   "metadata": {},
   "outputs": [],
   "source": [
    "attr = attr.replace(\"No\", 0)"
   ]
  },
  {
   "cell_type": "code",
   "execution_count": null,
   "id": "4ad59425",
   "metadata": {},
   "outputs": [],
   "source": [
    "attr.groupby('Department')['Attrition'].mean()"
   ]
  },
  {
   "cell_type": "code",
   "execution_count": null,
   "id": "77f001cd",
   "metadata": {},
   "outputs": [],
   "source": [
    "sns.catplot(x=\"Department\",y=\"Attrition\" ,hue=\"MaritalStatus\",kind=\"bar\",data=attr)   \n",
    "plt.show()"
   ]
  },
  {
   "cell_type": "markdown",
   "id": "97bc5490",
   "metadata": {},
   "source": [
    "##### Employees in R&D department seem to have less attrition rate among other department employees, with higher attrition in both Human Resources and Sales Department."
   ]
  },
  {
   "cell_type": "code",
   "execution_count": null,
   "id": "c6566b04",
   "metadata": {},
   "outputs": [],
   "source": [
    "sns.catplot(x=\"Department\",y=\"Attrition\" ,col=\"MaritalStatus\",kind=\"bar\",data=attr)   \n",
    "plt.show()"
   ]
  },
  {
   "cell_type": "markdown",
   "id": "ea794364",
   "metadata": {},
   "source": [
    "##### when drilled down by Marital status, sales singles seem to have almost twice the attrition rate of sales married employees."
   ]
  },
  {
   "cell_type": "markdown",
   "id": "28434007",
   "metadata": {},
   "source": [
    "## Categorical plot between MonthlyIncome and Department and Attrition"
   ]
  },
  {
   "cell_type": "code",
   "execution_count": null,
   "id": "f6197fce",
   "metadata": {},
   "outputs": [],
   "source": [
    "sns.catplot(x=\"Department\",y=\"MonthlyIncome\" ,hue=\"Attrition\",kind=\"box\",data=attr)   \n",
    "plt.show()"
   ]
  },
  {
   "cell_type": "markdown",
   "id": "ea35d7c8",
   "metadata": {},
   "source": [
    "##### Here shows less income employee from human resorce has more Attrition"
   ]
  },
  {
   "cell_type": "code",
   "execution_count": null,
   "id": "a870551e",
   "metadata": {},
   "outputs": [],
   "source": [
    "sns.catplot(x=\"Department\",y=\"Age\" ,kind=\"box\",data=attr)   \n",
    "plt.show()"
   ]
  },
  {
   "cell_type": "markdown",
   "id": "c4bb938e",
   "metadata": {},
   "source": [
    "###### It shows relation between departments and age which normally distributed"
   ]
  },
  {
   "cell_type": "code",
   "execution_count": null,
   "id": "ee2e155a",
   "metadata": {},
   "outputs": [],
   "source": [
    "tab=pd.crosstab(attr[\"Department\"],attr[\"Attrition\"],normalize='index')*100\n",
    "\n",
    "tab.plot(kind=\"bar\")\n",
    "plt.show()\n",
    "\n",
    "\n",
    "print(tab)\n"
   ]
  },
  {
   "cell_type": "markdown",
   "id": "bec52af9",
   "metadata": {},
   "source": [
    "## Education Field"
   ]
  },
  {
   "cell_type": "markdown",
   "id": "ad8e91de",
   "metadata": {},
   "source": [
    "• Nominal data(categorical)\n",
    "\n",
    "• There are 6 categories in this data sample: Human Resources, Life sciences, Marketing, Medical, Other and Technical degree\n",
    "\n",
    "• The count of employees from these educational backgrounds are: Human Resources = 27 Life Sciences = 606 Marketing = 159 Medical = 464 Technical Degree = 132 Other = 82\n",
    "\n",
    "• Under our analysis in the sample, 41.22% of the employees are from life sciences educational background, which is the maximum, 31.56% of the employees are from medical educational background, 10.81% of the employees are from marketing educational background, 8.97% of the employees are from technical degree educational background, 5.57% of the employees are from other educational background, 1.83% of the employees are from Human Resources background, which is the least in the organization."
   ]
  },
  {
   "cell_type": "code",
   "execution_count": null,
   "id": "f3cc4de2",
   "metadata": {},
   "outputs": [],
   "source": [
    "#Number of Unique values\n",
    "attr[\"EducationField\"].nunique()"
   ]
  },
  {
   "cell_type": "code",
   "execution_count": null,
   "id": "1b653bab",
   "metadata": {},
   "outputs": [],
   "source": [
    "attr[\"EducationField\"].value_counts()"
   ]
  },
  {
   "cell_type": "code",
   "execution_count": null,
   "id": "4eaedd21",
   "metadata": {},
   "outputs": [],
   "source": [
    "attr[\"EducationField\"].value_counts().plot(kind=\"barh\",figsize=(8,4),fontsize=13)\n",
    "plt.show()"
   ]
  },
  {
   "cell_type": "code",
   "execution_count": null,
   "id": "15416f24",
   "metadata": {},
   "outputs": [],
   "source": [
    "labels = ['Life Sciences', 'Medical', 'Marketing','Technical Degree','Other','Human Resources']\n",
    "plt.pie(attr.EducationField.value_counts(), labels=labels, autopct='%.1f%%')\n",
    "plt.show()"
   ]
  },
  {
   "cell_type": "code",
   "execution_count": null,
   "id": "c1085cee",
   "metadata": {},
   "outputs": [],
   "source": [
    "t4 = pd.crosstab(attr.EducationField,columns = attr.Attrition)\n",
    "t4"
   ]
  },
  {
   "cell_type": "code",
   "execution_count": null,
   "id": "23c7b92e",
   "metadata": {},
   "outputs": [],
   "source": [
    "tab=pd.crosstab(attr[\"EducationField\"],attr[\"Attrition\"],normalize='index')*100\n",
    "\n",
    "tab.plot(kind=\"bar\")\n",
    "plt.show()\n",
    "\n",
    "\n",
    "print(tab)"
   ]
  },
  {
   "cell_type": "markdown",
   "id": "d7678714",
   "metadata": {},
   "source": [
    "###### We can see that HR(25%),Marketing(22%),Technical(24%) education have attrition rates than the average of 16%. Hence we can say that these 3 education result in higher attrition"
   ]
  },
  {
   "cell_type": "markdown",
   "id": "c2b7f5fd",
   "metadata": {},
   "source": [
    "## Can low salary be one of the reasons?\n",
    "###### Employees with Life Sciences, Medical and other educational background are leaving less as compared to HR,Marketing and Tech\n",
    "\n",
    "#### Can low salary be a reason? let's find out"
   ]
  },
  {
   "cell_type": "code",
   "execution_count": null,
   "id": "025c38a0",
   "metadata": {},
   "outputs": [],
   "source": [
    "attr.groupby('EducationField').MonthlyIncome.mean()"
   ]
  },
  {
   "cell_type": "markdown",
   "id": "226fee23",
   "metadata": {},
   "source": [
    "###### No,because even though the salary of HR and marketing employees is higher, their leaving rate is highest."
   ]
  },
  {
   "cell_type": "code",
   "execution_count": null,
   "id": "b20f89e1",
   "metadata": {},
   "outputs": [],
   "source": [
    "sns.violinplot(x =\"EducationField\", y =\"MonthlyIncome\", hue =\"Attrition\",\n",
    "data = attr, split = True)\n",
    "plt.show()"
   ]
  },
  {
   "cell_type": "markdown",
   "id": "5644cbb6",
   "metadata": {},
   "source": [
    "## Subplot"
   ]
  },
  {
   "cell_type": "code",
   "execution_count": null,
   "id": "15357c86",
   "metadata": {},
   "outputs": [],
   "source": [
    "sns.relplot(x=\"Age\",y=\"MonthlyIncome\",hue=\"Attrition\",col=\"MaritalStatus\",data=attr)   ##subplot\n",
    "plt.show()"
   ]
  },
  {
   "cell_type": "markdown",
   "id": "aad777b3",
   "metadata": {},
   "source": [
    "## Environmental Satisfaction"
   ]
  },
  {
   "cell_type": "markdown",
   "id": "cb10aeb2",
   "metadata": {},
   "source": [
    "###### There are 1470 employees under our analysis for Environment Satisfaction (in our sample)\n",
    "\n",
    "• Nominal data(categorical)\n",
    "\n",
    "• There are 4 categories in this data sample: 1,2,3 and 4.\n",
    "\n",
    "• Here, 1 corresponds to least environment satisfaction and 4 corresponds to the highest environment satisfaction.\n",
    "\n",
    "• The count analysis of the Environment satisfaction category: • The employees who gave Environment satisfaction rating 1 is 284(19.34%) • The employees who gave Environment satisfaction rating 2 is 287 (19.52%) • The employees who gave Environment satisfaction rating 3 is 453 (30.8%) • The employees who gave Environment satisfaction rating 4 is 446 (30.34%)\n",
    "\n",
    " Most rating is with Environment satisfaction 3 with a count of 453  Least rating is with Environment satisfaction 1 with a count of 284"
   ]
  },
  {
   "cell_type": "code",
   "execution_count": null,
   "id": "c0cb0a10",
   "metadata": {},
   "outputs": [],
   "source": [
    "#Number of Unique values\n",
    "attr[\"EnvironmentSatisfaction\"].value_counts()"
   ]
  },
  {
   "cell_type": "code",
   "execution_count": null,
   "id": "d9b4deb3",
   "metadata": {},
   "outputs": [],
   "source": [
    "attr[\"EnvironmentSatisfaction\"].value_counts().plot(kind=\"bar\",figsize=(4,6),fontsize=13)\n",
    "plt.xlabel(\"EnvironmentSatisfaction\", fontsize=12)\n",
    "plt.ylabel(\"Count of employees\", fontsize=12)\n",
    "plt.title(\"Bar plot on category EnvironmentSatisfaction\", fontsize=16)\n",
    "plt.show()"
   ]
  },
  {
   "cell_type": "code",
   "execution_count": null,
   "id": "e0c83e59",
   "metadata": {},
   "outputs": [],
   "source": [
    "labels = ['3', '4', '2','1']\n",
    "plt.pie(attr.EnvironmentSatisfaction.value_counts(), labels=labels, autopct='%.1f%%')\n",
    "plt.show()"
   ]
  },
  {
   "cell_type": "code",
   "execution_count": null,
   "id": "6f061b3d",
   "metadata": {},
   "outputs": [],
   "source": [
    "t5 = pd.crosstab(attr.EnvironmentSatisfaction,columns = attr.Attrition)\n",
    "t5"
   ]
  },
  {
   "cell_type": "markdown",
   "id": "fc69cace",
   "metadata": {},
   "source": [
    "## percentage of EnvironmentSatisfaction numbers using attrition"
   ]
  },
  {
   "cell_type": "code",
   "execution_count": null,
   "id": "f35a9052",
   "metadata": {},
   "outputs": [],
   "source": [
    "tab = pd.crosstab(attr[\"EnvironmentSatisfaction\"],attr[\"Attrition\"],normalize='index')*100\n",
    "print(tab)\n",
    "tab.plot(kind='bar')\n",
    "plt.show()"
   ]
  },
  {
   "cell_type": "markdown",
   "id": "1e390b83",
   "metadata": {},
   "source": [
    "###### Here, we can see that people with low environmental score of 1 have higher attrition rate(25%) than the average attrition rate of 16%"
   ]
  },
  {
   "cell_type": "code",
   "execution_count": null,
   "id": "3e487ef6",
   "metadata": {},
   "outputs": [],
   "source": [
    "plt.subplots (figsize=(22,8))\n",
    "sns.countplot (x='Age',  hue='EnvironmentSatisfaction', data= attr, palette = 'colorblind')\n",
    "plt.show()"
   ]
  },
  {
   "cell_type": "code",
   "execution_count": null,
   "id": "d24be048",
   "metadata": {},
   "outputs": [],
   "source": [
    "sns.relplot(x=\"EnvironmentSatisfaction\",y=\"MonthlyIncome\",hue=\"Attrition\",kind=\"line\",data=attr)\n",
    "plt.show()"
   ]
  },
  {
   "cell_type": "markdown",
   "id": "984d1ced",
   "metadata": {},
   "source": [
    "## MaritalStatus"
   ]
  },
  {
   "cell_type": "markdown",
   "id": "c7e42f91",
   "metadata": {},
   "source": [
    "###### There are 1470 employees under our analysis for Marital Status (in our sample)\n",
    "\n",
    " Nominal data(categorical)\n",
    "\n",
    " There are 3 categories in this data sample: Single, Married and Divorced.\n",
    "\n",
    " The count analysis of the Marital Status category:  Married 673  Single 470  Divorced 327\n",
    "\n",
    "• Employees with the “Married” status have maximum count in the given data set. • Employees with the “Divorced” status have minimum count in the given data set."
   ]
  },
  {
   "cell_type": "code",
   "execution_count": null,
   "id": "008e0e90",
   "metadata": {},
   "outputs": [],
   "source": [
    "attr[\"MaritalStatus\"].value_counts()"
   ]
  },
  {
   "cell_type": "markdown",
   "id": "a88671e8",
   "metadata": {},
   "source": [
    "## Who is leaving more? married ,un-married or divorced employees?"
   ]
  },
  {
   "cell_type": "code",
   "execution_count": null,
   "id": "4b427220",
   "metadata": {},
   "outputs": [],
   "source": [
    "labels = ['Married', 'Single','Divorced']\n",
    "plt.pie(attr.MaritalStatus.value_counts(), labels=labels, autopct='%.1f%%')\n",
    "plt.show()"
   ]
  },
  {
   "cell_type": "code",
   "execution_count": null,
   "id": "c68e5cba",
   "metadata": {},
   "outputs": [],
   "source": [
    "attr['MaritalStatus'].value_counts().plot(kind='barh', figsize=(6,4), color=\"coral\", fontsize=13)\n",
    "\n",
    "plt.xlabel(\"Count of people\", fontsize=12)\n",
    "plt.ylabel(\"MaritalStatus\", fontsize=12)\n",
    "\n",
    "plt.show()"
   ]
  },
  {
   "cell_type": "code",
   "execution_count": null,
   "id": "6fa9df23",
   "metadata": {},
   "outputs": [],
   "source": [
    "attr.groupby('MaritalStatus').Attrition.mean()"
   ]
  },
  {
   "cell_type": "markdown",
   "id": "6ac05e43",
   "metadata": {},
   "source": [
    "###### Singles tend to have a little higher attrition rate than others."
   ]
  },
  {
   "cell_type": "code",
   "execution_count": null,
   "id": "32f7bbbf",
   "metadata": {},
   "outputs": [],
   "source": [
    "tab = pd.crosstab(attr[\"MaritalStatus\"],attr[\"Attrition\"],normalize='index')*100\n",
    "\n",
    "tab.plot(kind='bar')\n",
    "plt.show()"
   ]
  },
  {
   "cell_type": "markdown",
   "id": "1bff7879",
   "metadata": {},
   "source": [
    "###### Single employee has high attrition rate(25%) compared to average attrition rate of 16%.Similarly, divorced employees have low attrition rate(10%) compared to the average of 16%."
   ]
  },
  {
   "cell_type": "markdown",
   "id": "a0cf949b",
   "metadata": {},
   "source": [
    "## WorkLifeBalance"
   ]
  },
  {
   "cell_type": "markdown",
   "id": "de4fb6c9",
   "metadata": {},
   "source": [
    " ###### There are 1470 employees under our analysis for Work Life Balance(in our sample) • Nominal data(categorical)\n",
    "\n",
    "• There are 4 categories in this data sample: 1,2,3 and 4.\n",
    "\n",
    "• Here, 1 corresponds to least Work Life Balance and 4 corresponds to the highest Work Life Balance.\n",
    "\n",
    "• The count analysis of the Work Life Balance category: • The employees who gave Work Life Balance rating 1 is 80 (5.44%) • The employees who gave Work Life Balance rating 2 is344 ( 23.40%) • The employees who gave Work Life Balance rating 3 is 893 (60.07%) • The employees who gave Work Life Balance rating 4 is 153 (10.40%)\n",
    "\n",
    " Most rating is with Work Life Balance is 3 with a count of 893  Least rating is with Work Life Balance 1 with a count of 80"
   ]
  },
  {
   "cell_type": "code",
   "execution_count": null,
   "id": "242835c9",
   "metadata": {},
   "outputs": [],
   "source": [
    "attr[\"WorkLifeBalance\"].value_counts()"
   ]
  },
  {
   "cell_type": "code",
   "execution_count": null,
   "id": "540adb47",
   "metadata": {},
   "outputs": [],
   "source": [
    "sns.countplot(attr[\"WorkLifeBalance\"])\n",
    "plt.xticks(rotation=50)\n",
    "plt.show()"
   ]
  },
  {
   "cell_type": "code",
   "execution_count": null,
   "id": "a8ca9ade",
   "metadata": {},
   "outputs": [],
   "source": [
    "labels = ['3', '2','4','1']\n",
    "plt.pie(attr.WorkLifeBalance.value_counts(), labels=labels,autopct='%.1f%%')\n",
    "plt.show()"
   ]
  },
  {
   "cell_type": "code",
   "execution_count": null,
   "id": "d2ad9b64",
   "metadata": {},
   "outputs": [],
   "source": [
    "tab = pd.crosstab(attr[\"WorkLifeBalance\"],attr[\"Attrition\"],normalize='index')*100\n",
    "\n",
    "tab.plot(kind='bar')\n",
    "plt.show()"
   ]
  },
  {
   "cell_type": "markdown",
   "id": "b77d4f40",
   "metadata": {},
   "source": [
    "###### People with work life balance of 1 have high attrition rate(31%) compared to the population attrition rate of 16%.\n",
    "\n",
    "###### Hence poor work life balance increases attrition."
   ]
  },
  {
   "cell_type": "markdown",
   "id": "6bf4147a",
   "metadata": {},
   "source": [
    "## Years At Company"
   ]
  },
  {
   "cell_type": "markdown",
   "id": "a8e161ec",
   "metadata": {},
   "source": [
    " \n",
    "###### There are 1470 employees under our analysis for Years At Company (in our sample)\n",
    "• Ordinal data(numerical)\n",
    "\n",
    "• Range of Years At Company is between 0 years to 40 years: This company has employees across the spectrum from zero years experience till employees with 40 years of experience.\n",
    "\n",
    "• Mean years in company of employees in the data sample is 7.008\n",
    "\n",
    "• 25%(1st quartile) of the employees under our analysis in our sample are of years less than or equal to 3 years. • 50%(median-2nd quartile) of the employees under our analysis in our sample are of years less than or equal to 5. It provides the years ‘midpoint’ of employees of organization; there are the same number of people who are have more years than the median years. • 75%(3rd quartile) of the employees under our analysis in our sample have Years At Company less than or equal to 9.\n",
    "\n",
    "• At least 75% of the employees under our analysis in our sample have Years At Company between 5.24(mean-2sd) and 19.24(mean+2sd)\n",
    "\n",
    "• The maximum number(mode) of employees with years in the company under our analysis in our sample is 5 years.\n",
    "\n",
    "• The minimum number of employees of the years in the company under our analysis in our sample are of age 1. (4 in number)\n",
    "\n",
    "• The mean is greater than the median, so the distribution of variable mean will have its tail towards the right side. This indicates that the sample is positively skewed."
   ]
  },
  {
   "cell_type": "code",
   "execution_count": null,
   "id": "d16965e4",
   "metadata": {},
   "outputs": [],
   "source": [
    "attr.YearsAtCompany.describe()"
   ]
  },
  {
   "cell_type": "markdown",
   "id": "d4fa26af",
   "metadata": {},
   "source": [
    "## Are Employees leaving after working for certain number years?"
   ]
  },
  {
   "cell_type": "code",
   "execution_count": null,
   "id": "c3da97c3",
   "metadata": {},
   "outputs": [],
   "source": [
    "attr['YearsAtCompany'].value_counts().plot(kind='bar', figsize=(19,4), color=\"coral\", fontsize=13)\n",
    "\n",
    "plt.xlabel(\"Years At Company\", fontsize=12)\n",
    "plt.ylabel(\"Count of Employees\", fontsize=12)\n",
    "plt.show()"
   ]
  },
  {
   "cell_type": "code",
   "execution_count": null,
   "id": "290d5c7c",
   "metadata": {},
   "outputs": [],
   "source": [
    "plt.subplots (figsize=(22,8))\n",
    "sns.countplot (x='YearsAtCompany',  hue='Attrition', data= attr, palette = 'colorblind')\n",
    "plt.show()"
   ]
  },
  {
   "cell_type": "markdown",
   "id": "c86abc17",
   "metadata": {},
   "source": [
    "##### Employees who have worked for less number of years tend to leave more."
   ]
  },
  {
   "cell_type": "markdown",
   "id": "ba36892f",
   "metadata": {},
   "source": [
    "## Distance From Home"
   ]
  },
  {
   "cell_type": "markdown",
   "id": "cc1108bb",
   "metadata": {},
   "source": [
    "###### There are 1470 employees under our analysis for ‘Distance from Home’ (in our sample). • Ordinal data(numerical)\n",
    "\n",
    "• Range of ‘Distance from Home’ is between 1 years to 29 years.\n",
    "\n",
    "• Mean ‘Distance from Home’ of employees in the data sample is 9.19."
   ]
  },
  {
   "cell_type": "code",
   "execution_count": null,
   "id": "cd8b1006",
   "metadata": {},
   "outputs": [],
   "source": [
    "attr.DistanceFromHome.describe()"
   ]
  },
  {
   "cell_type": "code",
   "execution_count": null,
   "id": "bda7cde3",
   "metadata": {},
   "outputs": [],
   "source": [
    "attr.hist(column=\"DistanceFromHome\",\n",
    "         grid=False,\n",
    "         figsize=(6,4),\n",
    "         color=\"indigo\",\n",
    "         edgecolor=\"black\",\n",
    "         bins=10)\n",
    "\n",
    "plt.xlabel(\"Distance From Home\",fontsize=12)\n",
    "plt.ylabel(\"Frequency\",fontsize=12)\n",
    "plt.title(\" Employee 'Distance From Home' Analysis \",fontsize=16)\n",
    "\n",
    "plt.show()"
   ]
  },
  {
   "cell_type": "code",
   "execution_count": null,
   "id": "643bc629",
   "metadata": {},
   "outputs": [],
   "source": [
    "attr['DistanceFromHome'].value_counts().plot(kind='bar', figsize=(10,6), color=\"coral\", fontsize=13)\n",
    "\n",
    "plt.xlabel(\"Distance From Home\", fontsize=12)\n",
    "plt.ylabel(\"Count of Employees\", fontsize=12)\n",
    "plt.title(\" Employee 'Distance From Home' Analysis \", fontsize=16)\n",
    "plt.show()"
   ]
  },
  {
   "cell_type": "markdown",
   "id": "d985240e",
   "metadata": {},
   "source": [
    "###### This graph shows most of the employees prefer to live colser to their home."
   ]
  },
  {
   "cell_type": "code",
   "execution_count": null,
   "id": "60db63ee",
   "metadata": {},
   "outputs": [],
   "source": [
    "sns.boxplot(x = \"DistanceFromHome\",y= \"Age\",data = attr, palette = \"autumn_r\")\n",
    "plt.gcf().set_size_inches(8, 6)"
   ]
  },
  {
   "cell_type": "markdown",
   "id": "363dce67",
   "metadata": {},
   "source": [
    "###### This box plot shows DistanceFromHome with respect to age.It does not show any difference so it is normally distributed."
   ]
  },
  {
   "cell_type": "code",
   "execution_count": null,
   "id": "a534fa78",
   "metadata": {},
   "outputs": [],
   "source": [
    "attr.groupby(['Age','Attrition'])['DistanceFromHome'].size().unstack().plot(kind='bar', figsize=(12,6),stacked=True)\n",
    "plt.show()"
   ]
  },
  {
   "cell_type": "markdown",
   "id": "05760bd5",
   "metadata": {},
   "source": [
    "## Relation plot between Monthly Income and Age by Marital status"
   ]
  },
  {
   "cell_type": "code",
   "execution_count": null,
   "id": "e4f8c958",
   "metadata": {},
   "outputs": [],
   "source": [
    "sns.relplot(x=\"MonthlyIncome\",y=\"Age\",hue=\"MaritalStatus\",data=attr)   \n",
    "plt.show()                                        ##"
   ]
  },
  {
   "cell_type": "markdown",
   "id": "f2697228",
   "metadata": {},
   "source": [
    "### Relation between employee's  YearsAtCompany and their age with attrition"
   ]
  },
  {
   "cell_type": "code",
   "execution_count": null,
   "id": "81936064",
   "metadata": {},
   "outputs": [],
   "source": [
    "sns.relplot(x=\"YearsAtCompany\",y=\"Age\",hue=\"Attrition\",col=\"MaritalStatus\",data=attr) ##diffrnt colm with diffn class\n",
    "plt.show()"
   ]
  },
  {
   "cell_type": "code",
   "execution_count": null,
   "id": "811ec991",
   "metadata": {},
   "outputs": [],
   "source": [
    "sns.pairplot(attr, vars=[\"YearsAtCompany\",\"Age\",\"MonthlyIncome\"])\n",
    "plt.show()"
   ]
  },
  {
   "cell_type": "markdown",
   "id": "e6879cd9",
   "metadata": {},
   "source": [
    " Here pair plot pairwise relationships in attrition dataset so that here all variables in attr will be plotted against each other variable in the dataset."
   ]
  },
  {
   "cell_type": "markdown",
   "id": "984dffa1",
   "metadata": {},
   "source": [
    "## Corelation"
   ]
  },
  {
   "cell_type": "code",
   "execution_count": null,
   "id": "e3c62ee4",
   "metadata": {},
   "outputs": [],
   "source": [
    "attr.corr()"
   ]
  },
  {
   "cell_type": "code",
   "execution_count": null,
   "id": "5d8237ff",
   "metadata": {},
   "outputs": [],
   "source": [
    "\n",
    "sns.heatmap(attr.corr())               ###heatmap\n",
    "plt.show()"
   ]
  },
  {
   "cell_type": "code",
   "execution_count": null,
   "id": "dc2a6025",
   "metadata": {},
   "outputs": [],
   "source": [
    "plt.figure(figsize = (14,14))\n",
    "sns.heatmap(attr.corr(), annot=True)               ###heatmap\n",
    "plt.show()"
   ]
  },
  {
   "cell_type": "markdown",
   "id": "7e02d5c9",
   "metadata": {},
   "source": [
    "Variables such as TotalWorkingYears, YearsAtCompany, YearsInCurrentRoleare highly corelated to each other.\n",
    "\n",
    "This graph shows Pearson’s correlation values, and there is a presence of high correlations values among different sets of variables such as Monthly Income,  Total Working Hours and many more. "
   ]
  },
  {
   "cell_type": "markdown",
   "id": "2914818c",
   "metadata": {},
   "source": [
    "'Years at Company' and 'Monthly Imcome': 0.51 -------> More experiece more salary\n",
    "\n",
    "'Age' and 'Monthly Income': 0.49 --------> old employees have more experience\n",
    "\n",
    "'Age' and 'Years at Company' : 0.31\n",
    "\n",
    "'Age' and 'Number of Companies Worked': 0.29\n",
    "\n",
    "'Work Life Balance', 'Job Satisfaction' and 'Environment Satisfaction' do not have strong correlation with other features"
   ]
  },
  {
   "cell_type": "markdown",
   "id": "360fc884",
   "metadata": {},
   "source": [
    "## pandas_profiling"
   ]
  },
  {
   "cell_type": "code",
   "execution_count": null,
   "id": "6a6eb9ca",
   "metadata": {},
   "outputs": [],
   "source": [
    "from pandas_profiling import ProfileReport"
   ]
  },
  {
   "cell_type": "code",
   "execution_count": null,
   "id": "b3b0b7d5",
   "metadata": {},
   "outputs": [],
   "source": [
    "profiling = ProfileReport(attr)"
   ]
  },
  {
   "cell_type": "code",
   "execution_count": null,
   "id": "e42f0a02",
   "metadata": {},
   "outputs": [],
   "source": [
    "profiling"
   ]
  },
  {
   "cell_type": "code",
   "execution_count": null,
   "id": "7eae9442",
   "metadata": {},
   "outputs": [],
   "source": [
    "profiling.to_file(\"attr.html\")"
   ]
  },
  {
   "cell_type": "markdown",
   "id": "78852933",
   "metadata": {},
   "source": [
    "It will save profiling data in another file named attr.html"
   ]
  },
  {
   "cell_type": "markdown",
   "id": "c5b93ed9",
   "metadata": {},
   "source": [
    "## Findings after performing Analysis :-\n",
    "#### Based on Age:\n",
    "Range of age is between 18 years to 60 years: This company has employees across the spectrum from recent graduates to the retirement age. Since the maximum age bracket with highest number of employees are between 30 -36, we can safely assume that the company prefers employees who have considerable work experience.\n",
    "\n",
    "#### Based on Department:\n",
    "Since 65% of the employees are in Research and development, we can assume that the company activities include innovation and introducing new products and services. Ostensibly, the goal of the company would be to take new products and services to market and add to the company's bottom line.\n",
    "\n",
    "#### Based on Education Field:\n",
    "Since 41% and 31% of the employees are from the Life sciences and medical backgrounds respectively, we can say that the company is majorly based out of bio-technology and R&D. This further strengthens our earlier propositions.\n",
    "\n",
    "#### Based on Environment Satisfaction:\n",
    "Since more than 60% of the employees have voted for the top 2 categories in environment satisfaction, we can say that the majority of employees feel comfortable working in this organization. However, 40% of the employees seem to need improvement in their working environment.\n",
    "\n",
    "#### Based on Job Satisfaction:\n",
    "Only 30% of employees in the organization have given the highest rating for job satisfaction. This shows that there is still a lot of room for improvement. \n",
    "\n",
    "#### Based on Marital Status:\n",
    "As 45% of the employees in the organization are married, the company appears to give a stable and well-paying job profile to the employees. Marital status is also an important indicator of organisational commitment. Generally, married people are more committed to their organisation than unmarried people.\n",
    "\n",
    "#### Based on Monthly Income:\n",
    "It is negatively correlated to attrition. Lesser the Monthly Income, higher the attrition rate. Employees with salary around 2500 are more prone to leave the company.\n",
    "\n",
    "#### Based on WorkLifeBalance :\n",
    "60% of employees have given second best rating. This could again hint at a 'neutral response bias' and it involves a certain subjectivity of interpreting a correct work-life balance.\n",
    "\n",
    "#### Based on Years At Company:\n",
    "The dataset reveals that a majority of the employees (75%) have a work experience of less than 9 years at the company. There appears to be a tapering down of career progression above 10 years. If the company can positively tackle this, it can greatly benefit the organisation.\n",
    "\n",
    "#### Based on Distance From Home:\n",
    "A large number of employees are residing close to the company (50% of the employees are at a distance of 7km). There is a possibility that accomodation facilities are provided by the company, since the maximum count of employees are at a distance of 2 km.\n"
   ]
  },
  {
   "cell_type": "markdown",
   "id": "e8471425",
   "metadata": {},
   "source": [
    "## To reduce the attrition rate I would recommend:\n",
    "Offer support: Provide work-life balance programs and flexible work arrangements that help employees manage their workload and reduce overtime. Offer mentorship and coaching programs that support employees in their current roles and help them develop the skills required for future roles.\n",
    "\n",
    "Encourage career growth: Provide career advancement opportunities, training programs, and mentorship to support employee progression to higher job levels.\n",
    "\n",
    "Offer competitive compensation: Offer competitive salaries and benefits that align with the market standards and recognize and reward long-serving employees for their commitment to the organization.\n",
    "\n",
    "Foster a positive work environment: Provide a positive and inclusive work environment that encourages employee engagement and job satisfaction.\n",
    "\n",
    "Gather employee feedback: Conduct regular employee engagement surveys to understand the underlying reasons for employee turnover and take corrective actions accordingly."
   ]
  },
  {
   "cell_type": "code",
   "execution_count": null,
   "id": "317a5690",
   "metadata": {},
   "outputs": [],
   "source": []
  }
 ],
 "metadata": {
  "kernelspec": {
   "display_name": "Python 3 (ipykernel)",
   "language": "python",
   "name": "python3"
  },
  "language_info": {
   "codemirror_mode": {
    "name": "ipython",
    "version": 3
   },
   "file_extension": ".py",
   "mimetype": "text/x-python",
   "name": "python",
   "nbconvert_exporter": "python",
   "pygments_lexer": "ipython3",
   "version": "3.9.13"
  }
 },
 "nbformat": 4,
 "nbformat_minor": 5
}
